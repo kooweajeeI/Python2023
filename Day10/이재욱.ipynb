{
 "cells": [
  {
   "attachments": {},
   "cell_type": "markdown",
   "metadata": {},
   "source": [
    "## 1번"
   ]
  },
  {
   "cell_type": "code",
   "execution_count": 3,
   "metadata": {},
   "outputs": [
    {
     "name": "stdout",
     "output_type": "stream",
     "text": [
      "반지름은 3.0, 원의 넓이는 28.274328 입니다.\n"
     ]
    }
   ],
   "source": [
    "def circle(r):\n",
    "    pi = 3.141592\n",
    "    area = r*r*pi\n",
    "    print(f\"반지름은 {r}, 원의 넓이는 {area} 입니다.\")\n",
    "\n",
    "\n",
    "r = float(input(\"반지름을 입력하세요.\"))\n",
    "circle(r)\n"
   ]
  },
  {
   "attachments": {},
   "cell_type": "markdown",
   "metadata": {},
   "source": [
    "## 2번"
   ]
  },
  {
   "cell_type": "code",
   "execution_count": 2,
   "metadata": {},
   "outputs": [
    {
     "name": "stdout",
     "output_type": "stream",
     "text": [
      "Jupiter는 목성입니다.\n"
     ]
    }
   ],
   "source": [
    "planet = {'Mercury': '수성', 'Venus': '금성', 'Earth': '지구', 'Mars': '화성',\n",
    "          'Jupiter': '목성', 'Saturn': '토성', 'Uranus': '천왕성', 'Neptune': '해왕성'}\n",
    "\n",
    "search = input(\"행성의 영어 이름을 입력하세요. [ 첫글자는 대문자, 예) Earth ] : \")\n",
    "\n",
    "if search in planet.keys():\n",
    "    print(f'{search}는 {planet[search]}입니다.')\n",
    "else:\n",
    "    print(\"그런 행성은 없습니다.\")\n"
   ]
  },
  {
   "attachments": {},
   "cell_type": "markdown",
   "metadata": {},
   "source": [
    "## 3번"
   ]
  },
  {
   "attachments": {},
   "cell_type": "markdown",
   "metadata": {},
   "source": [
    "```python\n",
    "sentence = input('영어 문장 입력:')\n",
    "\n",
    "words = sentence. split()\n",
    "print(len(words),end='/')\n",
    "\n",
    "for i, word in enumerate(words):\n",
    "    if (i+1) % 2 == 0:\n",
    "        print(word.upper()), end = ' ')\n",
    "    else:\n",
    "        print(word, end = ' ')\n",
    "```"
   ]
  },
  {
   "cell_type": "code",
   "execution_count": 3,
   "metadata": {},
   "outputs": [
    {
     "name": "stdout",
     "output_type": "stream",
     "text": [
      "I'm going to leave the door open = 7 / I'm GOING to LEAVE the DOOR open\n"
     ]
    }
   ],
   "source": [
    "def WordChange():\n",
    "    txt = input('영어 문자열 입력: ')\n",
    "    s = txt.split(' ')\n",
    "\n",
    "    for i in range(len(s)):\n",
    "        if i % 2 != 0:\n",
    "            s[i] = s[i].upper()\n",
    "\n",
    "    str = ' '.join(s)\n",
    "    print(f'{txt} = {len(s)} / {str}')\n",
    "\n",
    "\n",
    "WordChange()\n"
   ]
  },
  {
   "attachments": {},
   "cell_type": "markdown",
   "metadata": {},
   "source": [
    "## 4번"
   ]
  },
  {
   "attachments": {},
   "cell_type": "markdown",
   "metadata": {},
   "source": [
    "```python\n",
    "numbers = list(map(int, input('수 입력').split())\n",
    "\n",
    "for i in nubmers:\n",
    "    print(i, end=' ')\n",
    "\n",
    "print('-->', end=' ')\n",
    "numbers.reverse()\n",
    "\n",
    "for i in numbers:\n",
    "    print(i, end=' ')\n",
    "```"
   ]
  },
  {
   "cell_type": "code",
   "execution_count": 4,
   "metadata": {},
   "outputs": [
    {
     "name": "stdout",
     "output_type": "stream",
     "text": [
      "1 3 5 7 9 --> 9 7 5 3 1\n"
     ]
    }
   ],
   "source": [
    "a = input()\n",
    "b = str(a)[::-1]\n",
    "\n",
    "print(f'{a} --> {b}')"
   ]
  },
  {
   "attachments": {},
   "cell_type": "markdown",
   "metadata": {},
   "source": [
    "## 5번"
   ]
  },
  {
   "cell_type": "code",
   "execution_count": 5,
   "metadata": {},
   "outputs": [
    {
     "name": "stdout",
     "output_type": "stream",
     "text": [
      "3--> 3 6 9 12 15 18 21 24 27 "
     ]
    }
   ],
   "source": [
    "num = int(input(\"구구단을 수행할 단번호(2단~9단) : \"))\n",
    "while (num < 2 or num > 9):\n",
    "    print(\"2부터 9사이의 숫자만 입력하세요\")\n",
    "    num = int(input(\"구구단을 수행할 단번호 : \"))\n",
    "\n",
    "print(f'{num}-->' , end=' ')\n",
    "for i in range(1,10):\n",
    "    print(num*i, end=' ' )"
   ]
  },
  {
   "cell_type": "code",
   "execution_count": null,
   "metadata": {},
   "outputs": [],
   "source": []
  }
 ],
 "metadata": {
  "kernelspec": {
   "display_name": "venv",
   "language": "python",
   "name": "python3"
  },
  "language_info": {
   "codemirror_mode": {
    "name": "ipython",
    "version": 3
   },
   "file_extension": ".py",
   "mimetype": "text/x-python",
   "name": "python",
   "nbconvert_exporter": "python",
   "pygments_lexer": "ipython3",
   "version": "3.11.1"
  },
  "orig_nbformat": 4,
  "vscode": {
   "interpreter": {
    "hash": "e2fda0d25371820ddc6aad72bf7375268ccfba241251a464cb4a9058751fc07d"
   }
  }
 },
 "nbformat": 4,
 "nbformat_minor": 2
}
